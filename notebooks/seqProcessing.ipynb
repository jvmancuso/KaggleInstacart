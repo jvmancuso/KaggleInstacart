{
 "cells": [
  {
   "cell_type": "markdown",
   "metadata": {},
   "source": [
    "#### Imports"
   ]
  },
  {
   "cell_type": "code",
   "execution_count": 1,
   "metadata": {
    "collapsed": true
   },
   "outputs": [],
   "source": [
    "import numpy as np\n",
    "import pandas as pd\n",
    "import gc\n",
    "DATA_PATH = '../data/'"
   ]
  },
  {
   "cell_type": "code",
   "execution_count": null,
   "metadata": {},
   "outputs": [
    {
     "name": "stdout",
     "output_type": "stream",
     "text": [
      "loading prior\n",
      "loading train\n"
     ]
    }
   ],
   "source": [
    "print('loading prior')\n",
    "priors = pd.read_csv(DATA_PATH + 'order_products__prior.csv', dtype={\n",
    "            'order_id': np.int32,\n",
    "            'product_id': np.uint16,\n",
    "            'add_to_cart_order': np.int16,\n",
    "            'reordered': np.int8})\n",
    "\n",
    "print('loading train')\n",
    "train = pd.read_csv(DATA_PATH + 'order_products__train.csv', dtype={\n",
    "            'order_id': np.int32,\n",
    "            'product_id': np.uint16,\n",
    "            'add_to_cart_order': np.int16,\n",
    "            'reordered': np.int8})\n",
    "\n",
    "print('loading orders')\n",
    "orders = pd.read_csv(DATA_PATH + 'orders.csv', dtype={\n",
    "        'order_id': np.int32,\n",
    "        'user_id': np.int32,\n",
    "        'eval_set': 'category',\n",
    "        'order_number': np.int16,\n",
    "        'order_dow': np.int8,\n",
    "        'order_hour_of_day': np.int8,\n",
    "        'days_since_prior_order': np.float32})"
   ]
  },
  {
   "cell_type": "code",
   "execution_count": 2,
   "metadata": {
    "collapsed": true
   },
   "outputs": [],
   "source": [
    "priors = priors.groupby('order_id').apply(lambda x: pd.Series(x.product_id.values)).unstack().to_sparse(fill_value=0)"
   ]
  },
  {
   "cell_type": "code",
   "execution_count": 31,
   "metadata": {
    "collapsed": true
   },
   "outputs": [],
   "source": [
    "train = train.groupby('order_id').apply(lambda x: pd.Series(x.product_id.values)).unstack().to_sparse(fill_value=0)"
   ]
  },
  {
   "cell_type": "markdown",
   "metadata": {},
   "source": [
    "#### Processing starts here"
   ]
  },
  {
   "cell_type": "markdown",
   "metadata": {},
   "source": [
    "The idea is to prepare the data for input into an LSTM network.  Usually, one would have one long time series, and would use windowing to come up with input/output pairs, but we have a bunch of shorter time series from different users.  We'll ignore this, and use each user's order sequence as it's own input/output pair.  The first thing we'll need is a features array with dimensions `(sequence_length, n_users, n_features)`. We'll use the features provided for each order and a vector of product IDs for that order.  We'll assume that the maximum prior order size is the maximum number of products we can predict.  This means `n_features` will equal 148 (145 potential products plus 3 order features).  We'll use the last order's products vector as the label, so the labels array should be of dimension `(n_users, max_products_per_order)`."
   ]
  },
  {
   "cell_type": "markdown",
   "metadata": {},
   "source": [
    "For those familiar with neural network sequence prediction, I know how unorthodox this is.  It's all very experimental!"
   ]
  },
  {
   "cell_type": "markdown",
   "metadata": {},
   "source": [
    "Concatenate prior orders with training orders.  Note some users exist in `priors` that do not exist in the `train`."
   ]
  },
  {
   "cell_type": "code",
   "execution_count": 40,
   "metadata": {
    "collapsed": true
   },
   "outputs": [],
   "source": [
    "df = pd.concat([priors,train], axis=0)"
   ]
  },
  {
   "cell_type": "code",
   "execution_count": 53,
   "metadata": {
    "collapsed": true
   },
   "outputs": [],
   "source": [
    "df.to_pickle('full_unpackedprodid')"
   ]
  },
  {
   "cell_type": "code",
   "execution_count": 54,
   "metadata": {
    "collapsed": true
   },
   "outputs": [],
   "source": [
    "del priors, train\n",
    "gc.collect;"
   ]
  },
  {
   "cell_type": "code",
   "execution_count": 71,
   "metadata": {},
   "outputs": [
    {
     "name": "stdout",
     "output_type": "stream",
     "text": [
      "loading orders\n"
     ]
    }
   ],
   "source": [
    "print('loading orders')\n",
    "orders = pd.read_csv(DATA_PATH + 'orders.csv', dtype={\n",
    "        'order_id': np.int32,\n",
    "        'user_id': np.int32,\n",
    "        'eval_set': 'category',\n",
    "        'order_number': np.int16,\n",
    "        'order_dow': np.int8,\n",
    "        'order_hour_of_day': np.int8,\n",
    "        'days_since_prior_order': np.float32})"
   ]
  },
  {
   "cell_type": "markdown",
   "metadata": {},
   "source": [
    "Separate training and test orders."
   ]
  },
  {
   "cell_type": "code",
   "execution_count": 72,
   "metadata": {
    "collapsed": true
   },
   "outputs": [],
   "source": [
    "train_orders = orders[orders.eval_set!='test']\n",
    "test_orders = orders[orders.eval_set=='test']\n",
    "df = df.set_index(\"order_id\")"
   ]
  },
  {
   "cell_type": "code",
   "execution_count": 73,
   "metadata": {
    "collapsed": true
   },
   "outputs": [],
   "source": [
    "del orders\n",
    "gc.collect();"
   ]
  },
  {
   "cell_type": "markdown",
   "metadata": {},
   "source": [
    "Join training orders with the ordered products dataframe."
   ]
  },
  {
   "cell_type": "code",
   "execution_count": 74,
   "metadata": {
    "collapsed": true
   },
   "outputs": [],
   "source": [
    "train_final = train_orders.join(df, on=\"order_id\", how=\"left\")"
   ]
  },
  {
   "cell_type": "code",
   "execution_count": 2,
   "metadata": {
    "collapsed": true
   },
   "outputs": [],
   "source": [
    "#test_orders.to_pickle(DATA_PATH+\"test.pickle\")\n",
    "#train_final.to_pickle(DATA_PATH+\"train.pickle\")\n",
    "train_final = pd.read_pickle(DATA_PATH+'train.pickle')"
   ]
  },
  {
   "cell_type": "code",
   "execution_count": 3,
   "metadata": {
    "collapsed": true
   },
   "outputs": [],
   "source": [
    "train_final.reset_index(inplace=True)"
   ]
  },
  {
   "cell_type": "markdown",
   "metadata": {},
   "source": [
    "Since this is a lot of data and we'll want to pad our sequences, we need to maintain reasonable data sizes. How many `user_id`s have `i` orders?"
   ]
  },
  {
   "cell_type": "code",
   "execution_count": 25,
   "metadata": {
    "scrolled": true
   },
   "outputs": [
    {
     "name": "stdout",
     "output_type": "stream",
     "text": [
      "1 0\n",
      "2 0\n",
      "3 8686\n",
      "4 22451\n",
      "5 18267\n",
      "6 15334\n",
      "7 13196\n",
      "8 11075\n",
      "9 9762\n",
      "10 8660\n",
      "11 7399\n",
      "12 6787\n",
      "13 5923\n",
      "14 5464\n",
      "15 4965\n",
      "16 4487\n",
      "17 3983\n",
      "18 3692\n",
      "19 3290\n",
      "20 3108\n",
      "21 2844\n",
      "22 2683\n",
      "23 2513\n",
      "24 2208\n",
      "25 2126\n",
      "26 2049\n",
      "27 1836\n",
      "28 1695\n",
      "29 1592\n",
      "30 1495\n",
      "31 1447\n",
      "32 1338\n",
      "33 1243\n",
      "34 1174\n",
      "35 1097\n",
      "36 1030\n",
      "37 1001\n",
      "38 944\n",
      "39 906\n",
      "40 847\n",
      "41 891\n",
      "42 781\n",
      "43 726\n",
      "44 726\n",
      "45 674\n",
      "46 736\n",
      "47 638\n",
      "48 592\n",
      "49 603\n",
      "50 545\n",
      "51 566\n",
      "52 519\n",
      "53 520\n",
      "54 463\n",
      "55 432\n",
      "56 382\n",
      "57 386\n",
      "58 313\n",
      "59 335\n",
      "60 317\n",
      "61 312\n",
      "62 272\n",
      "63 257\n",
      "64 248\n",
      "65 227\n",
      "66 239\n",
      "67 176\n",
      "68 200\n",
      "69 186\n",
      "70 176\n",
      "71 143\n",
      "72 158\n",
      "73 152\n",
      "74 170\n",
      "75 147\n",
      "76 126\n",
      "77 123\n",
      "78 129\n",
      "79 120\n",
      "80 112\n",
      "81 114\n",
      "82 116\n",
      "83 83\n",
      "84 98\n",
      "85 104\n",
      "86 82\n",
      "87 74\n",
      "88 80\n",
      "89 83\n",
      "90 72\n",
      "91 69\n",
      "92 73\n",
      "93 51\n",
      "94 64\n",
      "95 62\n",
      "96 68\n",
      "97 49\n",
      "98 47\n",
      "99 538\n",
      "100 867\n"
     ]
    }
   ],
   "source": [
    "a = train_final.groupby(['user_id'])['order_number'].max()\n",
    "for i in range(1,100+1):\n",
    "    print(i,len(a[a==i])) # Note to self: make this into a plot."
   ]
  },
  {
   "cell_type": "markdown",
   "metadata": {},
   "source": [
    "Looks like a long-tailed distribution.  We need to drop our max orders per `user_id` if we're going to pad these sequences, but we don't want to throw away too many orders.  That way, we can still operate on the data in memory while minimizing information loss."
   ]
  },
  {
   "cell_type": "code",
   "execution_count": 4,
   "metadata": {},
   "outputs": [
    {
     "data": {
      "text/plain": [
       "83082"
      ]
     },
     "execution_count": 4,
     "metadata": {},
     "output_type": "execute_result"
    }
   ],
   "source": [
    "# Number of orders lost by subsetting\n",
    "train_final.shape[0]-train_final[train_final.order_number<=68].shape[0]"
   ]
  },
  {
   "cell_type": "markdown",
   "metadata": {},
   "source": [
    "Padding the sequences."
   ]
  },
  {
   "cell_type": "code",
   "execution_count": 5,
   "metadata": {
    "collapsed": true
   },
   "outputs": [],
   "source": [
    "total_per_user = 68"
   ]
  },
  {
   "cell_type": "code",
   "execution_count": 6,
   "metadata": {
    "collapsed": true
   },
   "outputs": [],
   "source": [
    "train_final = train_final[train_final.order_number<=total_per_user]\n",
    "train_final = train_final.join(train_final.groupby(['user_id'])['order_number'].max(),on='user_id', rsuffix='_max')"
   ]
  },
  {
   "cell_type": "code",
   "execution_count": 7,
   "metadata": {
    "collapsed": true
   },
   "outputs": [],
   "source": [
    "train_final['order_number_margin'] = total_per_user-train_final['order_number_max']"
   ]
  },
  {
   "cell_type": "code",
   "execution_count": 8,
   "metadata": {
    "collapsed": true
   },
   "outputs": [],
   "source": [
    "train_final['new_order_number'] = train_final['order_number'] + train_final['order_number_margin']"
   ]
  },
  {
   "cell_type": "code",
   "execution_count": 9,
   "metadata": {
    "collapsed": true
   },
   "outputs": [],
   "source": [
    "train_final.set_index(['user_id','new_order_number'], inplace=True)"
   ]
  },
  {
   "cell_type": "code",
   "execution_count": 10,
   "metadata": {
    "collapsed": true
   },
   "outputs": [],
   "source": [
    "train_final.drop(['index','order_number_margin','order_number_max'],axis=1,inplace=True)"
   ]
  },
  {
   "cell_type": "code",
   "execution_count": 11,
   "metadata": {
    "collapsed": true
   },
   "outputs": [],
   "source": [
    "user_id_indices = list(set([index[0] for index in train_final.index]))"
   ]
  },
  {
   "cell_type": "code",
   "execution_count": 12,
   "metadata": {
    "collapsed": true
   },
   "outputs": [],
   "source": [
    "new_multiindex_array = [(x,y) for x in user_id_indices for y in range(1,68+1)]"
   ]
  },
  {
   "cell_type": "code",
   "execution_count": 13,
   "metadata": {
    "collapsed": true
   },
   "outputs": [],
   "source": [
    "train_final = train_final.reindex(index=new_multiindex_array)"
   ]
  },
  {
   "cell_type": "code",
   "execution_count": 14,
   "metadata": {
    "collapsed": true
   },
   "outputs": [],
   "source": [
    "del user_id_indices, new_multiindex_array\n",
    "gc.collect();"
   ]
  },
  {
   "cell_type": "code",
   "execution_count": 15,
   "metadata": {
    "collapsed": true
   },
   "outputs": [],
   "source": [
    "train_final.to_pickle(DATA_PATH+'padded_train.pickle')"
   ]
  },
  {
   "cell_type": "markdown",
   "metadata": {},
   "source": [
    "To be continued..."
   ]
  }
 ],
 "metadata": {
  "kernelspec": {
   "display_name": "Python [conda env:torch]",
   "language": "python",
   "name": "conda-env-torch-py"
  },
  "language_info": {
   "codemirror_mode": {
    "name": "ipython",
    "version": 3
   },
   "file_extension": ".py",
   "mimetype": "text/x-python",
   "name": "python",
   "nbconvert_exporter": "python",
   "pygments_lexer": "ipython3",
   "version": "3.6.1"
  }
 },
 "nbformat": 4,
 "nbformat_minor": 2
}
